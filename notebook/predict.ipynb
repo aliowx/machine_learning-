{
 "cells": [
  {
   "cell_type": "markdown",
   "id": "bd1e629d",
   "metadata": {},
   "source": [
    "# import "
   ]
  },
  {
   "cell_type": "markdown",
   "id": "e34bee93",
   "metadata": {},
   "source": []
  }
 ],
 "metadata": {
  "language_info": {
   "name": "python"
  }
 },
 "nbformat": 4,
 "nbformat_minor": 5
}
