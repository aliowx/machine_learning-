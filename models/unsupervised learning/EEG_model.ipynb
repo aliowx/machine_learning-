{
 "cells": [
  {
   "cell_type": "markdown",
   "metadata": {},
   "source": [
    "# detect someone with separation mood or emotional distress "
   ]
  },
  {
   "cell_type": "code",
   "execution_count": 6,
   "metadata": {},
   "outputs": [],
   "source": [
    "import pandas as pd\n",
    "import numpy as np\n",
    "from matplotlib import pyplot as plt\n",
    "import tensorflow as tf\n",
    "from sklearn.model_selection import train_test_split\n",
    "import threading\n",
    "import warnings\n",
    "warnings.filterwarnings('ignore', category=Warning)"
   ]
  },
  {
   "cell_type": "code",
   "execution_count": 7,
   "metadata": {},
   "outputs": [],
   "source": [
    "s00 = pd.read_csv('../data/data_EEG/s00.csv',header=None)\n",
    "s01 = pd.read_csv('../data/data_EEG/s01.csv',header=None)\n",
    "s02 = pd.read_csv('../data/data_EEG/s02.csv',header=None)\n",
    "s03 = pd.read_csv('../data/data_EEG/s03.csv',header=None)\n",
    "s04 = pd.read_csv('../data/data_EEG/s04.csv',header=None)\n",
    "s05 = pd.read_csv('../data/data_EEG/s05.csv',header=None)\n",
    "s06 = pd.read_csv('../data/data_EEG/s06.csv',header=None)\n",
    "s07 = pd.read_csv('../data/data_EEG/s07.csv',header=None)\n",
    "s08 = pd.read_csv('../data/data_EEG/s08.csv',header=None)\n",
    "s09 = pd.read_csv('../data/data_EEG/s09.csv',header=None)\n",
    "s10 = pd.read_csv('../data/data_EEG/s10.csv',header=None)\n",
    "s11 = pd.read_csv('../data/data_EEG/s11.csv',header=None)\n",
    "s12 = pd.read_csv('../data/data_EEG/s12.csv',header=None)\n",
    "s13 = pd.read_csv('../data/data_EEG/s13.csv',header=None)\n",
    "s14 = pd.read_csv('../data/data_EEG/s14.csv',header=None)\n",
    "s15 = pd.read_csv('../data/data_EEG/s15.csv',header=None)\n",
    "s16 = pd.read_csv('../data/data_EEG/s16.csv',header=None)\n",
    "s17 = pd.read_csv('../data/data_EEG/s17.csv',header=None)\n",
    "s18 = pd.read_csv('../data/data_EEG/s18.csv',header=None)\n",
    "s19 = pd.read_csv('../data/data_EEG/s19.csv',header=None)\n",
    "s20 = pd.read_csv('../data/data_EEG/s20.csv',header=None)\n",
    "s21 = pd.read_csv('../data/data_EEG/s21.csv',header=None)\n",
    "s22 = pd.read_csv('../data/data_EEG/s22.csv',header=None)\n",
    "s23 = pd.read_csv('../data/data_EEG/s23.csv',header=None)\n",
    "s24 = pd.read_csv('../data/data_EEG/s24.csv',header=None)\n",
    "s25 = pd.read_csv('../data/data_EEG/s25.csv',header=None)\n",
    "s26 = pd.read_csv('../data/data_EEG/s26.csv',header=None)\n",
    "s27 = pd.read_csv('../data/data_EEG/s27.csv',header=None)\n",
    "s28 = pd.read_csv('../data/data_EEG/s28.csv',header=None)\n",
    "s29 = pd.read_csv('../data/data_EEG/s29.csv',header=None)\n",
    "s30 = pd.read_csv('../data/data_EEG/s30.csv',header=None)\n",
    "s31 = pd.read_csv('../data/data_EEG/s31.csv',header=None)\n",
    "s32 = pd.read_csv('../data/data_EEG/s32.csv',header=None)\n",
    "s33 = pd.read_csv('../data/data_EEG/s33.csv',header=None)\n",
    "s34 = pd.read_csv('../data/data_EEG/s34.csv',header=None)\n",
    "s35 = pd.read_csv('../data/data_EEG/s35.csv',header=None)"
   ]
  },
  {
   "cell_type": "code",
   "execution_count": 8,
   "metadata": {},
   "outputs": [
    {
     "data": {
      "text/plain": [
       "(31000, 19)"
      ]
     },
     "execution_count": 8,
     "metadata": {},
     "output_type": "execute_result"
    }
   ],
   "source": [
    "s00.shape"
   ]
  },
  {
   "cell_type": "markdown",
   "metadata": {},
   "source": [
    "# Leave-One-Out Cross-Validation (LOOCV) Explained\n",
    "\n",
    "\tNotice how rows 30-35 are excluded from the initial processing (like transpose and to_numpy) - these are reserved as the test set, not for validation!\n",
    "\n",
    "\tThis method called Leave-One-Out Cross-Validation (LOOCV), is particularly valuable for EEG and other neuroimaging data because:\n",
    "\n",
    "\tPersonalization Matters: Each participant has unique baseline brain activity, signal amplitudes, and response patterns\n",
    "\n",
    "\tMaximized Data Utility: With typical EEG studies having just 20-40 participants, LOOCV gives the most statistically reliable results"
   ]
  },
  {
   "cell_type": "code",
   "execution_count": 9,
   "metadata": {},
   "outputs": [],
   "source": [
    "s00=s00.transpose().to_numpy()\n",
    "s01=s01.transpose().to_numpy()\n",
    "s02=s02.transpose().to_numpy()\n",
    "s03=s03.transpose().to_numpy()\n",
    "s04=s04.transpose().to_numpy()\n",
    "s05=s05.transpose().to_numpy()\n",
    "s06=s06.transpose().to_numpy()\n",
    "s07=s07.transpose().to_numpy()\n",
    "s08=s08.transpose().to_numpy()\n",
    "s09=s09.transpose().to_numpy()\n",
    "s10=s10.transpose().to_numpy()\n",
    "s11=s11.transpose().to_numpy()\n",
    "s12=s12.transpose().to_numpy()\n",
    "s13=s13.transpose().to_numpy()\n",
    "s14=s14.transpose().to_numpy()\n",
    "s15=s15.transpose().to_numpy()\n",
    "s16=s16.transpose().to_numpy()\n",
    "s17=s17.transpose().to_numpy()\n",
    "s18=s18.transpose().to_numpy()\n",
    "s19=s19.transpose().to_numpy()\n",
    "s20=s20.transpose().to_numpy()\n",
    "s21=s21.transpose().to_numpy()\n",
    "s22=s22.transpose().to_numpy()\n",
    "s23=s23.transpose().to_numpy()\n",
    "s24=s24.transpose().to_numpy()\n",
    "s25=s25.transpose().to_numpy()\n",
    "s26=s26.transpose().to_numpy()\n",
    "s27=s27.transpose().to_numpy()\n",
    "s28=s28.transpose().to_numpy()\n",
    "s29=s29.transpose().to_numpy()"
   ]
  },
  {
   "cell_type": "code",
   "execution_count": 12,
   "metadata": {},
   "outputs": [
    {
     "data": {
      "text/plain": [
       "array([[ 4.4760e+00,  1.2080e+00, -2.5460e+00, ..., -4.1361e-04,\n",
       "        -4.1361e-04, -4.1361e-04],\n",
       "       [-2.7403e+00, -3.3088e+00, -3.7083e+00, ..., -1.4025e-03,\n",
       "        -1.4025e-03, -1.4025e-03],\n",
       "       [-2.5017e+00, -4.4178e+00, -6.4109e+00, ...,  2.5287e-05,\n",
       "         2.5287e-05,  2.5287e-05],\n",
       "       ...,\n",
       "       [ 3.3687e-02, -6.8218e-01, -1.2844e+00, ..., -4.0194e-04,\n",
       "        -4.0194e-04, -4.0194e-04],\n",
       "       [ 2.7164e+00,  4.8287e+00,  6.6513e+00, ..., -1.2302e-03,\n",
       "        -1.2302e-03, -1.2302e-03],\n",
       "       [ 8.4831e-01,  4.5261e-01, -1.0393e-01, ..., -9.8351e-04,\n",
       "        -9.8351e-04, -9.8351e-04]])"
      ]
     },
     "execution_count": 12,
     "metadata": {},
     "output_type": "execute_result"
    }
   ],
   "source": [
    "s00"
   ]
  },
  {
   "cell_type": "markdown",
   "metadata": {},
   "source": [
    "# Original dataset with 36 samples"
   ]
  },
  {
   "cell_type": "code",
   "execution_count": 13,
   "metadata": {},
   "outputs": [],
   "source": [
    "\n",
    "dataset= np.array(\n",
    "    [[s00],[s01],[s02],[s03],[s04],[s05],[s06],[s07],\n",
    "    [s08],[s09],[s10],[s11],[s12],[s13],[s14],[s15],[s16],[s17],[s18],[s19],\n",
    "    [s20],[s21],[s22],[s23],[s24],[s25],[s26],[s27],\n",
    "    [s28],[s29]]\n",
    ")\n",
    "\n"
   ]
  },
  {
   "cell_type": "code",
   "execution_count": 15,
   "metadata": {},
   "outputs": [
    {
     "data": {
      "text/plain": [
       "array([[[[ 4.4760e+00,  1.2080e+00, -2.5460e+00, ..., -4.1361e-04,\n",
       "          -4.1361e-04, -4.1361e-04],\n",
       "         [-2.7403e+00, -3.3088e+00, -3.7083e+00, ..., -1.4025e-03,\n",
       "          -1.4025e-03, -1.4025e-03],\n",
       "         [-2.5017e+00, -4.4178e+00, -6.4109e+00, ...,  2.5287e-05,\n",
       "           2.5287e-05,  2.5287e-05],\n",
       "         ...,\n",
       "         [ 3.3687e-02, -6.8218e-01, -1.2844e+00, ..., -4.0194e-04,\n",
       "          -4.0194e-04, -4.0194e-04],\n",
       "         [ 2.7164e+00,  4.8287e+00,  6.6513e+00, ..., -1.2302e-03,\n",
       "          -1.2302e-03, -1.2302e-03],\n",
       "         [ 8.4831e-01,  4.5261e-01, -1.0393e-01, ..., -9.8351e-04,\n",
       "          -9.8351e-04, -9.8351e-04]]],\n",
       "\n",
       "\n",
       "       [[[ 1.3990e+01,  1.2877e+01,  1.1885e+01, ...,  8.5942e-04,\n",
       "           8.5942e-04,  8.5942e-04],\n",
       "         [ 1.0550e+01,  1.0276e+01,  9.2391e+00, ...,  5.8796e-06,\n",
       "           5.8796e-06,  5.8796e-06],\n",
       "         [ 1.4146e+01,  1.2904e+01,  1.1402e+01, ..., -2.2769e-04,\n",
       "          -2.2769e-04, -2.2769e-04],\n",
       "         ...,\n",
       "         [ 1.6089e+01,  1.5680e+01,  1.4729e+01, ...,  8.1496e-04,\n",
       "           8.1496e-04,  8.1496e-04],\n",
       "         [ 1.8206e+01,  1.7998e+01,  1.7111e+01, ..., -9.9011e-04,\n",
       "          -9.9011e-04, -9.9011e-04],\n",
       "         [ 1.1392e+01,  1.2333e+01,  1.3404e+01, ...,  1.0770e-03,\n",
       "           1.0770e-03,  1.0770e-03]]],\n",
       "\n",
       "\n",
       "       [[[ 3.5258e+00,  2.5774e+00,  9.5841e-01, ..., -7.0192e-04,\n",
       "          -7.0192e-04, -7.0192e-04],\n",
       "         [ 7.1455e-01,  1.4160e+00,  1.8989e+00, ...,  2.5152e-04,\n",
       "           2.5152e-04,  2.5152e-04],\n",
       "         [ 7.2127e+00,  8.3481e+00,  9.8564e+00, ...,  4.7973e-05,\n",
       "           4.7973e-05,  4.7973e-05],\n",
       "         ...,\n",
       "         [ 9.5965e+00,  1.0483e+01,  1.1642e+01, ..., -3.1489e-04,\n",
       "          -3.1489e-04, -3.1489e-04],\n",
       "         [ 6.3301e+00,  7.2550e+00,  8.4885e+00, ...,  9.3564e-04,\n",
       "           9.3564e-04,  9.3564e-04],\n",
       "         [ 9.2747e-01,  1.5205e+00,  2.5392e+00, ...,  1.2456e-03,\n",
       "           1.2456e-03,  1.2456e-03]]],\n",
       "\n",
       "\n",
       "       ...,\n",
       "\n",
       "\n",
       "       [[[-3.3520e+00, -1.6305e+00,  1.1436e+00, ..., -4.7603e-04,\n",
       "          -4.7603e-04, -4.7603e-04],\n",
       "         [-2.7093e+00, -1.9601e+00, -8.8081e-01, ..., -1.9734e-04,\n",
       "          -1.9734e-04, -1.9734e-04],\n",
       "         [-4.9678e+00, -3.9715e+00, -2.5673e+00, ..., -6.1197e-04,\n",
       "          -6.1197e-04, -6.1197e-04],\n",
       "         ...,\n",
       "         [-6.1828e+00, -5.5313e+00, -4.6053e+00, ..., -1.1359e-03,\n",
       "          -1.1359e-03, -1.1359e-03],\n",
       "         [-7.0342e+00, -6.3464e+00, -5.5235e+00, ..., -7.7097e-04,\n",
       "          -7.7097e-04, -7.7097e-04],\n",
       "         [-5.0850e+00, -4.5508e+00, -3.8207e+00, ..., -4.1632e-04,\n",
       "          -4.1632e-04, -4.1632e-04]]],\n",
       "\n",
       "\n",
       "       [[[-6.9630e+00,  4.8504e-01,  7.3374e+00, ...,  1.2113e-03,\n",
       "           1.2113e-03,  1.2113e-03],\n",
       "         [ 1.6708e+00,  4.9904e+00,  8.4554e+00, ..., -3.2227e-06,\n",
       "          -3.2227e-06, -3.2227e-06],\n",
       "         [ 2.4688e-01, -3.6249e-01, -1.5190e+00, ...,  3.6764e-04,\n",
       "           3.6764e-04,  3.6764e-04],\n",
       "         ...,\n",
       "         [ 2.5707e+00,  1.1955e+00, -8.5387e-01, ...,  1.1529e-03,\n",
       "           1.1529e-03,  1.1529e-03],\n",
       "         [ 4.3731e+00,  2.4895e+00,  2.0365e-01, ..., -8.0163e-04,\n",
       "          -8.0163e-04, -8.0163e-04],\n",
       "         [ 3.6075e+00,  2.7455e+00,  1.5995e+00, ..., -2.0621e-04,\n",
       "          -2.0621e-04, -2.0621e-04]]],\n",
       "\n",
       "\n",
       "       [[[ 2.8914e+00,  3.7081e+00,  4.5454e+00, ..., -8.3213e-04,\n",
       "          -8.3213e-04, -8.3213e-04],\n",
       "         [ 1.0145e+01,  9.8366e+00,  9.1298e+00, ..., -6.3498e-05,\n",
       "          -6.3498e-05, -6.3498e-05],\n",
       "         [ 6.2020e+00,  6.3799e+00,  6.4171e+00, ..., -3.8761e-04,\n",
       "          -3.8761e-04, -3.8761e-04],\n",
       "         ...,\n",
       "         [ 6.5935e+00,  7.7978e+00,  8.7201e+00, ..., -9.7406e-04,\n",
       "          -9.7406e-04, -9.7406e-04],\n",
       "         [ 1.9902e+00,  2.4544e+00,  2.7708e+00, ..., -1.4527e-03,\n",
       "          -1.4527e-03, -1.4527e-03],\n",
       "         [ 2.5547e+00,  2.0607e+00,  1.5408e+00, ...,  1.6800e-03,\n",
       "           1.6800e-03,  1.6800e-03]]]])"
      ]
     },
     "execution_count": 15,
     "metadata": {},
     "output_type": "execute_result"
    }
   ],
   "source": [
    "dataset"
   ]
  },
  {
   "cell_type": "code",
   "execution_count": 16,
   "metadata": {},
   "outputs": [
    {
     "data": {
      "text/plain": [
       "(30, 1, 19, 31000)"
      ]
     },
     "execution_count": 16,
     "metadata": {},
     "output_type": "execute_result"
    }
   ],
   "source": [
    "dataset.shape"
   ]
  },
  {
   "cell_type": "markdown",
   "metadata": {},
   "source": [
    "# Reshape the dataset"
   ]
  },
  {
   "cell_type": "code",
   "execution_count": 20,
   "metadata": {},
   "outputs": [],
   "source": [
    "dataset = dataset.reshape(30,1,760,775)"
   ]
  },
  {
   "cell_type": "code",
   "execution_count": null,
   "metadata": {},
   "outputs": [],
   "source": []
  }
 ],
 "metadata": {
  "kernelspec": {
   "display_name": "data-analysis-_rtLvpYT-py3.12",
   "language": "python",
   "name": "python3"
  },
  "language_info": {
   "codemirror_mode": {
    "name": "ipython",
    "version": 3
   },
   "file_extension": ".py",
   "mimetype": "text/x-python",
   "name": "python",
   "nbconvert_exporter": "python",
   "pygments_lexer": "ipython3",
   "version": "3.12.3"
  }
 },
 "nbformat": 4,
 "nbformat_minor": 2
}
